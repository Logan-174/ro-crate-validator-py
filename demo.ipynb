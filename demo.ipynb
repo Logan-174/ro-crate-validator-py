{
 "cells": [
  {
   "cell_type": "code",
   "execution_count": 1,
   "metadata": {},
   "outputs": [],
   "source": [
    "from rocrateValidator import validate as validate"
   ]
  },
  {
   "cell_type": "code",
   "execution_count": 2,
   "metadata": {},
   "outputs": [
    {
     "name": "stdout",
     "output_type": "stream",
     "text": [
      "This is a VALID RO-Crate but with Warning\n",
      "{\n",
      "    \"File existence\": [\n",
      "        true\n",
      "    ],\n",
      "    \"File size\": [\n",
      "        true\n",
      "    ],\n",
      "    \"Metadata file existence\": [\n",
      "        true\n",
      "    ],\n",
      "    \"Json check\": [\n",
      "        true\n",
      "    ],\n",
      "    \"Json-ld check\": [\n",
      "        true\n",
      "    ],\n",
      "    \"File descriptor check\": [\n",
      "        true\n",
      "    ],\n",
      "    \"Direct property check\": [\n",
      "        true\n",
      "    ],\n",
      "    \"Referencing check\": [\n",
      "        true\n",
      "    ],\n",
      "    \"Encoding check\": [\n",
      "        true\n",
      "    ],\n",
      "    \"Web-based data entity check\": [\n",
      "        true\n",
      "    ],\n",
      "    \"Person entity check\": [\n",
      "        \"WARNING: The Author https://ror.org/03f0f6041 is an Organization\"\n",
      "    ],\n",
      "    \"Organization entity check\": [\n",
      "        true\n",
      "    ],\n",
      "    \"Contact information check\": [\n",
      "        true\n",
      "    ],\n",
      "    \"Citation property check\": [\n",
      "        true\n",
      "    ],\n",
      "    \"Publisher property check\": [\n",
      "        true\n",
      "    ],\n",
      "    \"Funder property check\": [\n",
      "        true\n",
      "    ],\n",
      "    \"Licensing property check\": [\n",
      "        true\n",
      "    ],\n",
      "    \"Places property check\": [\n",
      "        true\n",
      "    ],\n",
      "    \"Time property check\": [\n",
      "        true\n",
      "    ],\n",
      "    \"Scripts and workflow check\": [\n",
      "        true\n",
      "    ]\n",
      "}\n"
     ]
    }
   ],
   "source": [
    "v = validate.validate(\"test/samples/invalid/personEntity_warning\")\n",
    "v.validator()"
   ]
  },
  {
   "cell_type": "code",
   "execution_count": null,
   "metadata": {},
   "outputs": [],
   "source": []
  }
 ],
 "metadata": {
  "kernelspec": {
   "display_name": "Python 3",
   "language": "python",
   "name": "python3"
  },
  "language_info": {
   "codemirror_mode": {
    "name": "ipython",
    "version": 3
   },
   "file_extension": ".py",
   "mimetype": "text/x-python",
   "name": "python",
   "nbconvert_exporter": "python",
   "pygments_lexer": "ipython3",
   "version": "3.8.5"
  }
 },
 "nbformat": 4,
 "nbformat_minor": 4
}
