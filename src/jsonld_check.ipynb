{
 "cells": [
  {
   "cell_type": "code",
   "execution_count": 1,
   "metadata": {},
   "outputs": [],
   "source": [
    "import json \n",
    "import zipfile"
   ]
  },
  {
   "cell_type": "code",
   "execution_count": null,
   "metadata": {},
   "outputs": [],
   "source": [
    "class check_jsonld:\n",
    "    \n",
    "    def __init__(self, tar_file, extension):\n",
    "        self.tar_file = tar_file\n",
    "        self.extension = extension\n",
    "        \n",
    "    \n",
    "    def check_context(self, tar_file, extension):\n",
    "        metadata = \"ro-crate-metadata.json\"\n",
    "        if self.extension == \"\":\n",
    "            with open (os.path.join(self.tar_file, metadata), 'r') as f:\n",
    "                parsed_jsonld = json.load(f)\n",
    "            context_data = parsed_jsonld.get(\"@context\")\n",
    "            if context_data == None:\n",
    "                return False\n",
    "            return True\n",
    "        \n",
    "        elif self.extension == \".zip\":\n",
    "            zf = zipfile.ZipFile(self.tar_file, 'r')\n",
    "            json_string = zf.read(metadata)\n",
    "            parsed_jsonld = json.loads(json_string.decode(\"utf-8\"))\n",
    "            context_data = parsed_jsonld.get(\"@context\")\n",
    "            \n",
    "            if context_data == None:\n",
    "                return False\n",
    "            return True"
   ]
  }
 ],
 "metadata": {
  "kernelspec": {
   "display_name": "Python 3",
   "language": "python",
   "name": "python3"
  },
  "language_info": {
   "codemirror_mode": {
    "name": "ipython",
    "version": 3
   },
   "file_extension": ".py",
   "mimetype": "text/x-python",
   "name": "python",
   "nbconvert_exporter": "python",
   "pygments_lexer": "ipython3",
   "version": "3.8.5"
  }
 },
 "nbformat": 4,
 "nbformat_minor": 4
}
