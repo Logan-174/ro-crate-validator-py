{
 "cells": [
  {
   "cell_type": "code",
   "execution_count": 8,
   "metadata": {},
   "outputs": [
    {
     "name": "stdout",
     "output_type": "stream",
     "text": [
      "importing Jupyter notebook from basic_check.ipynb\n"
     ]
    }
   ],
   "source": [
    "import os\n",
    "import import_ipynb\n",
    "import sys\n",
    "from basic_check import check\n",
    "from json_check import check_json\n",
    "from jsonld_check import check_jsonld"
   ]
  },
  {
   "cell_type": "code",
   "execution_count": 11,
   "metadata": {},
   "outputs": [],
   "source": [
    "def validate(tar_file):\n",
    "    \n",
    "    check_result = False\n",
    "    size_size = 0\n",
    "    extension = os.path.splitext(tar_file)[1]\n",
    "    \n",
    "    c = check(tar_file, extension)\n",
    "    check_result = c.existence_check(tar_file)\n",
    "    if check_result == False:\n",
    "        print(\"There is no file or directory called %s\" % tar_file, \" It does exist or is not udner current directory.\")\n",
    "        raise Exception(\"The file exitence check -- FAIL\")\n",
    "    else:\n",
    "        size_check = c.file_size_check(tar_file)\n",
    "        if size_check == 0:\n",
    "            print(\"The size of RO-Crate cannot be zero byte.\")\n",
    "            raise Exception(\"This is an invalid RO-Crate.\")\n",
    "        else:\n",
    "            check_result = c.metadata_check(tar_file, extension)\n",
    "            if check_result == False:\n",
    "                raise Exception(\"NO Metadata File, Invalid RO-Crate.\")\n",
    "            else:\n",
    "                js = check_json(tar_file, extension)\n",
    "                check_result = js.string_value_check(tar_file, extension)\n",
    "                \n",
    "                if isinstance(check_result, list):\n",
    "                    error_message = js.string_value_check(tar_file, extension)[1]\n",
    "                    raise Exception(error_message)\n",
    "                else:\n",
    "                    jsld = check_jsonld(tar_file, extension)\n",
    "                    check_result = jsld.check_context(tar_file, extension)\n",
    "                    if check_result == False:\n",
    "                        raise Exception(\"NO context provided, Invalid RO-Crate with incorrect Json-ld format.\")\n",
    "    \n",
    "    print(\"This is a valid RO-Crate.\")\n",
    "                    \n",
    "        \n",
    "    \n",
    "    "
   ]
  },
  {
   "cell_type": "code",
   "execution_count": null,
   "metadata": {},
   "outputs": [],
   "source": []
  },
  {
   "cell_type": "code",
   "execution_count": null,
   "metadata": {},
   "outputs": [],
   "source": []
  },
  {
   "cell_type": "code",
   "execution_count": null,
   "metadata": {},
   "outputs": [],
   "source": []
  }
 ],
 "metadata": {
  "kernelspec": {
   "display_name": "Python 3",
   "language": "python",
   "name": "python3"
  },
  "language_info": {
   "codemirror_mode": {
    "name": "ipython",
    "version": 3
   },
   "file_extension": ".py",
   "mimetype": "text/x-python",
   "name": "python",
   "nbconvert_exporter": "python",
   "pygments_lexer": "ipython3",
   "version": "3.8.5"
  }
 },
 "nbformat": 4,
 "nbformat_minor": 4
}
