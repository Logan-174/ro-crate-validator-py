{
 "cells": [
  {
   "cell_type": "code",
   "execution_count": 2,
   "metadata": {},
   "outputs": [],
   "source": [
    "import os\n",
    "import sys\n",
    "from pathlib import Path\n",
    "\n",
    "file = Path(os.path.abspath('')).resolve()\n",
    "parent, root = file.parent, file.parents[1]\n",
    "sys.path.append(str(root))\n",
    "\n",
    "import import_ipynb\n",
    "import json\n",
    "from collections import defaultdict\n",
    "import syntaxCheck as sync\n",
    "import semanticCheck as smtc"
   ]
  },
  {
   "cell_type": "code",
   "execution_count": 1,
   "metadata": {},
   "outputs": [],
   "source": [
    "class validate1:\n",
    "    \n",
    "    def __init__(self, tar_file):\n",
    "        self.tar_file = tar_file\n",
    "        self.extension = os.path.splitext(self.tar_file)[1]\n",
    "        \n",
    "        #define a dictionary storing the checking functions in value\n",
    "        dictionary = {\n",
    "            \"File existence\": sync.existence_check,\n",
    "            \"File size\": sync.file_size_check, \n",
    "            \"Metadata file existence\":sync.metadata_check,\n",
    "            \"Json check\": sync.string_value_check,\n",
    "            \"Json-ld check\": sync.check_context,\n",
    "            \"Self descriptor check\": smtc.self_descriptor_check, \n",
    "            \"Direct property check\": smtc.direct_property_check\n",
    "        }\n",
    "        \n",
    "        #initialize the check result and a list to store the checking function\n",
    "        self.functions = []\n",
    "        self.result = defaultdict(list)\n",
    "        \n",
    "        with open (\"check_list.txt\") as file: \n",
    "            check_list = list(map(lambda s: s.strip(), file.readlines()))\n",
    "        \n",
    "        ### store the functions in a dictionary\n",
    "        for x in check_list:\n",
    "            if x in dictionary:\n",
    "                self.functions.append(dictionary[x])\n",
    "        \n",
    "        for i in range(len(self.functions)):\n",
    "            self.result[list(dictionary.keys())[i].rstrip(\"\\n\")].append(None)\n",
    "\n",
    "        \n",
    "    def update_output(self, term, check_result):\n",
    "        self.result[term][0] = check_result[1] if len(check_result) < 3 else check_result[2]\n",
    "        if len(check_result) >=3: \n",
    "            self.result[term].append(check_result[1])\n",
    "    \n",
    "    def validator(self):\n",
    "        for methods in self.functions: \n",
    "            check_result = methods(self.tar_file, self.extension)\n",
    "            if (check_result[0] == \"File existence\" or check_result[0] == \"File_size\" or check_result[0] == \"Metadata file existence\") and isinstance(check_result[1], bool) == False:\n",
    "                self.update_output(check_result[0], check_result)\n",
    "                break\n",
    "#             self.update_output(check_result[0], check_result)\n",
    "        output = json.dumps(self.result, indent = 4, separators=(',', ': '), sort_keys = False)\n",
    "            \n",
    "        print(output)\n",
    "\n",
    "        "
   ]
  },
  {
   "cell_type": "code",
   "execution_count": 11,
   "metadata": {},
   "outputs": [],
   "source": [
    "\n",
    "                    \n",
    "        \n",
    "    \n",
    "    "
   ]
  },
  {
   "cell_type": "code",
   "execution_count": null,
   "metadata": {},
   "outputs": [],
   "source": []
  },
  {
   "cell_type": "code",
   "execution_count": null,
   "metadata": {},
   "outputs": [],
   "source": []
  },
  {
   "cell_type": "code",
   "execution_count": null,
   "metadata": {},
   "outputs": [],
   "source": []
  },
  {
   "cell_type": "code",
   "execution_count": null,
   "metadata": {},
   "outputs": [],
   "source": []
  }
 ],
 "metadata": {
  "kernelspec": {
   "display_name": "Python 3",
   "language": "python",
   "name": "python3"
  },
  "language_info": {
   "codemirror_mode": {
    "name": "ipython",
    "version": 3
   },
   "file_extension": ".py",
   "mimetype": "text/x-python",
   "name": "python",
   "nbconvert_exporter": "python",
   "pygments_lexer": "ipython3",
   "version": "3.8.5"
  }
 },
 "nbformat": 4,
 "nbformat_minor": 4
}
