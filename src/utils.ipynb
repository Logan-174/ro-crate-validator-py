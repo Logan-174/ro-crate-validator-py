{
 "cells": [
  {
   "cell_type": "code",
   "execution_count": 1,
   "metadata": {},
   "outputs": [],
   "source": [
    "def workflow_extension_update(extension):\n",
    "    with open (\"workflow_extension.txt\", \"a\") as file:\n",
    "        file.write(\"\\n\")\n",
    "        file.write(\"%s\" % extension)"
   ]
  },
  {
   "cell_type": "code",
   "execution_count": null,
   "metadata": {},
   "outputs": [],
   "source": [
    "def is_downloadable(url):\n",
    "    \"\"\"\n",
    "    Does the url contain a downloadable resourses\n",
    "    \"\"\"\n",
    "    r = requests.get(url,stream=True)\n",
    "    content_type = r.headers.get('content-type')\n",
    "    if \"text\" in content_type.lower(): \n",
    "        return False\n",
    "    if 'html' in content_type.lower(): \n",
    "        return False\n",
    "    return True"
   ]
  }
 ],
 "metadata": {
  "kernelspec": {
   "display_name": "Python 3",
   "language": "python",
   "name": "python3"
  },
  "language_info": {
   "codemirror_mode": {
    "name": "ipython",
    "version": 3
   },
   "file_extension": ".py",
   "mimetype": "text/x-python",
   "name": "python",
   "nbconvert_exporter": "python",
   "pygments_lexer": "ipython3",
   "version": "3.8.5"
  }
 },
 "nbformat": 4,
 "nbformat_minor": 4
}
