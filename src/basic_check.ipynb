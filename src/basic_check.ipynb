{
 "cells": [
  {
   "cell_type": "code",
   "execution_count": 1,
   "metadata": {},
   "outputs": [],
   "source": [
    "import os\n",
    "import zipfile\n",
    "\n",
    "class check:\n",
    "    \n",
    "    def __init__(self, tar_file, extension):\n",
    "        self.tar_file = tar_file\n",
    "        self.extension = extension\n",
    "    \n",
    "    def existence_check(self, tar_file):\n",
    "        if os.path.exists(self.tar_file) == True:\n",
    "            return True\n",
    "        return False\n",
    "    \n",
    "    def file_size_check(self, tar_file):\n",
    "        file_size = os.path.getsize(self.tar_file)\n",
    "        if file_size == 0:\n",
    "            return False\n",
    "        return True\n",
    "    \n",
    "    def metadata_check(self, tar_file, extension):\n",
    "        path = os.path.join(os.getcwd(), self.tar_file)\n",
    "        metadata_file = \"ro-crate-metadata.json\"\n",
    "        if self.extension == \"\":\n",
    "            return os.path.exists(os.path.join(path, metadata_file))\n",
    "        elif self.extension == \".zip\":\n",
    "            zf = zipfile.ZipFile(tar_file, 'r')\n",
    "            return metadata_file in zf.namelist()\n",
    "            "
   ]
  },
  {
   "cell_type": "code",
   "execution_count": null,
   "metadata": {},
   "outputs": [],
   "source": []
  }
 ],
 "metadata": {
  "kernelspec": {
   "display_name": "Python 3",
   "language": "python",
   "name": "python3"
  },
  "language_info": {
   "codemirror_mode": {
    "name": "ipython",
    "version": 3
   },
   "file_extension": ".py",
   "mimetype": "text/x-python",
   "name": "python",
   "nbconvert_exporter": "python",
   "pygments_lexer": "ipython3",
   "version": "3.8.5"
  }
 },
 "nbformat": 4,
 "nbformat_minor": 4
}
