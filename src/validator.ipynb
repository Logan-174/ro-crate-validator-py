{
 "cells": [
  {
   "cell_type": "code",
   "execution_count": 1,
   "metadata": {
    "scrolled": true
   },
   "outputs": [
    {
     "name": "stdout",
     "output_type": "stream",
     "text": [
      "importing Jupyter notebook from validate.ipynb\n",
      "importing Jupyter notebook from syntaxCheck.ipynb\n",
      "importing Jupyter notebook from semanticCheck.ipynb\n"
     ]
    }
   ],
   "source": [
    "import import_ipynb\n",
    "import sys\n",
    "from validate import validate1\n",
    "import json"
   ]
  },
  {
   "cell_type": "code",
   "execution_count": 2,
   "metadata": {},
   "outputs": [
    {
     "name": "stdout",
     "output_type": "stream",
     "text": [
      "{\n",
      "    \"File existence\": [\n",
      "        true\n",
      "    ],\n",
      "    \"File size\": [\n",
      "        true\n",
      "    ],\n",
      "    \"Metadata file existence\": [\n",
      "        true\n",
      "    ],\n",
      "    \"Json check\": [\n",
      "        true\n",
      "    ],\n",
      "    \"Json-ld check\": [\n",
      "        true\n",
      "    ],\n",
      "    \"Self descriptor check\": [\n",
      "        true\n",
      "    ],\n",
      "    \"Direct property check\": [\n",
      "        true\n",
      "    ],\n",
      "    \"Referencing check\": [\n",
      "        false,\n",
      "        \"The referencing math/ is wrong\"\n",
      "    ],\n",
      "    \"Encoding check\": [\n",
      "        true\n",
      "    ],\n",
      "    \"Scripts and workflow check\": [\n",
      "        true\n",
      "    ]\n",
      "}\n"
     ]
    }
   ],
   "source": [
    "v = validate1(\"directory\")\n",
    "v.validator()"
   ]
  },
  {
   "cell_type": "code",
   "execution_count": null,
   "metadata": {},
   "outputs": [],
   "source": []
  },
  {
   "cell_type": "code",
   "execution_count": 9,
   "metadata": {},
   "outputs": [],
   "source": [
    "with open ('result.json','a') as file: \n",
    "    json.dump(output, file, indent = 4, separators=(',', ': '))"
   ]
  },
  {
   "cell_type": "code",
   "execution_count": 10,
   "metadata": {},
   "outputs": [
    {
     "ename": "NameError",
     "evalue": "name 'self' is not defined",
     "output_type": "error",
     "traceback": [
      "\u001b[0;31m---------------------------------------------------------------------------\u001b[0m",
      "\u001b[0;31mNameError\u001b[0m                                 Traceback (most recent call last)",
      "\u001b[0;32m<ipython-input-10-bdd0d3a7e377>\u001b[0m in \u001b[0;36m<module>\u001b[0;34m\u001b[0m\n\u001b[0;32m----> 1\u001b[0;31m \u001b[0mprint\u001b[0m\u001b[0;34m(\u001b[0m\u001b[0mself\u001b[0m\u001b[0;34m.\u001b[0m\u001b[0mresult\u001b[0m\u001b[0;34m)\u001b[0m\u001b[0;34m\u001b[0m\u001b[0;34m\u001b[0m\u001b[0m\n\u001b[0m",
      "\u001b[0;31mNameError\u001b[0m: name 'self' is not defined"
     ]
    }
   ],
   "source": []
  },
  {
   "cell_type": "code",
   "execution_count": null,
   "metadata": {},
   "outputs": [],
   "source": []
  }
 ],
 "metadata": {
  "kernelspec": {
   "display_name": "Python 3",
   "language": "python",
   "name": "python3"
  },
  "language_info": {
   "codemirror_mode": {
    "name": "ipython",
    "version": 3
   },
   "file_extension": ".py",
   "mimetype": "text/x-python",
   "name": "python",
   "nbconvert_exporter": "python",
   "pygments_lexer": "ipython3",
   "version": "3.8.5"
  }
 },
 "nbformat": 4,
 "nbformat_minor": 4
}
