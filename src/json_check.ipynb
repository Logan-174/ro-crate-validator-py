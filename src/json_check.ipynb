{
 "cells": [
  {
   "cell_type": "code",
   "execution_count": 1,
   "metadata": {},
   "outputs": [],
   "source": [
    "import os\n",
    "import json \n",
    "import zipfile"
   ]
  },
  {
   "cell_type": "code",
   "execution_count": null,
   "metadata": {},
   "outputs": [],
   "source": [
    "class check_json:\n",
    "    \n",
    "    \n",
    "    \n",
    "    def __init__(self, tar_file, extension):\n",
    "        self.tar_file = tar_file\n",
    "        self.extension = extension\n",
    "        \n",
    "    def string_value_check(self, tar_file, extension):\n",
    "        json_string = None\n",
    "        metadata = \"ro-crate-metadata.json\"\n",
    "        if self.extension == \"\":\n",
    "            with open (os.path.join(self.tar_file, self.metadata), 'r') as f:\n",
    "                json_string = f.read()\n",
    "            try:\n",
    "                parsed_json = json.loads(json_string)\n",
    "                json.dumps(parsed_json, indent = 4, sort_keys = True)\n",
    "            except Exception as e:\n",
    "                return False, repr(e)\n",
    "            \n",
    "            return True\n",
    "        elif self.extension == \".zip\":\n",
    "            zf = zipfile.ZipFile(self.tar_file, 'r')\n",
    "            json_string = zf.read(metadata)\n",
    "            try:\n",
    "                parsed_json = json.loads(json_string)\n",
    "                json.dumps(parsed_json, indent = 4, sort_keys = True)\n",
    "            except Exception as e:\n",
    "                return False, repr(e)\n",
    "            \n",
    "            return True\n"
   ]
  }
 ],
 "metadata": {
  "kernelspec": {
   "display_name": "Python 3",
   "language": "python",
   "name": "python3"
  },
  "language_info": {
   "codemirror_mode": {
    "name": "ipython",
    "version": 3
   },
   "file_extension": ".py",
   "mimetype": "text/x-python",
   "name": "python",
   "nbconvert_exporter": "python",
   "pygments_lexer": "ipython3",
   "version": "3.8.5"
  }
 },
 "nbformat": 4,
 "nbformat_minor": 4
}
