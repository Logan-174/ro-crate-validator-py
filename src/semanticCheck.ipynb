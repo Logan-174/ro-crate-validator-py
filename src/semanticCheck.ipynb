{
 "cells": [
  {
   "cell_type": "code",
   "execution_count": 52,
   "metadata": {},
   "outputs": [],
   "source": [
    "import os \n",
    "import json \n",
    "import zipfile\n",
    "from rocrate.utils import *\n",
    "from datetime import datetime"
   ]
  },
  {
   "cell_type": "markdown",
   "metadata": {},
   "source": [
    "# Checking RO-Crate Metadata Root Data Entity"
   ]
  },
  {
   "cell_type": "markdown",
   "metadata": {},
   "source": [
    "### RO-Crate Self Descriptor"
   ]
  },
  {
   "cell_type": "code",
   "execution_count": 26,
   "metadata": {},
   "outputs": [],
   "source": [
    "def get_norm_value(json_entity, prop):\n",
    "    \"\"\"\\\n",
    "    Get a normalized value for a property (always as a list of strings).\n",
    "    \"\"\"\n",
    "    value = json_entity.get(prop, [])\n",
    "    if not isinstance(value, list):\n",
    "        value = [value]\n",
    "    try:\n",
    "        return [_ if isinstance(_, str) else _[\"@id\"] for _ in value]\n",
    "    except (TypeError, KeyError):\n",
    "        raise ValueError(f\"Malformed value for {prop!r}: {json_entity.get(prop)!r}\")\n",
    "\n",
    "        \n",
    "def self_descriptor_check(tar_file, extension):\n",
    "    \"\"\"\\\n",
    "    Check the self descriptor in RO-Crate\n",
    "    Please check the requirements details in: \n",
    "    <https://www.researchobject.org/ro-crate/1.1/root-data-entity.html>\n",
    "    \"\"\"\n",
    "    NAME = \"Self descriptor check\"\n",
    "    error_message = \"self descriptor is not provided\"\n",
    "    \n",
    "    with open (os.path.join(tar_file, \"ro-crate-metadata.json\"), 'r') as file:\n",
    "        metadata = json.load(file)\n",
    "        graph = metadata['@graph']\n",
    "    \n",
    "    for entity in graph:\n",
    "        type = get_norm_value(entity, \"@type\")\n",
    "        if type == ['CreativeWork']:\n",
    "            if (get_norm_value(entity, \"@id\") == ['ro-crate-metadata.json'] or get_norm_value(entity, \"@id\") == ['ro-crate-metadata.jsonld']) and get_norm_value(entity, \"about\") == ['./']:\n",
    "                link_ = get_norm_value(entity, \"conformsTo\")[0]\n",
    "                if link_.startswith(\"https://w3id.org/ro/crate/\"): \n",
    "                    return NAME, True\n",
    "    return NAME, error_message, False"
   ]
  },
  {
   "cell_type": "markdown",
   "metadata": {},
   "source": [
    "### Direct property of Root Data Entity"
   ]
  },
  {
   "cell_type": "code",
   "execution_count": 55,
   "metadata": {},
   "outputs": [],
   "source": [
    "def datetime_valid(dt_str):\n",
    "    try: \n",
    "        datetime.fromisoformat(dt_str)\n",
    "    except: \n",
    "        return False\n",
    "    return True\n",
    "\n",
    "\n",
    "def direct_property_check(tar_file, extension):\n",
    "    \"\"\"\\\n",
    "    A valid RO-Crate MUST meets the direct property requirements\n",
    "    Please check the requirements details in: \n",
    "    <https://www.researchobject.org/ro-crate/1.1/root-data-entity.html>\n",
    "    \"\"\"\n",
    "    NAME = \"Direct property check\"\n",
    "    error_message = [\"datePublished is not in ISO 8601 date format\", \"Directory property of RO-Crate is wrong\"]\n",
    "    \n",
    "    with open (os.path.join(tar_file, \"ro-crate-metadata.json\"), 'r') as file:\n",
    "        metadata = json.load(file)\n",
    "        graph = metadata['@graph']\n",
    "        \n",
    "    for entity in graph: \n",
    "        type = get_norm_value(entity, '@type')\n",
    "        if type[0] == 'Dataset' and get_norm_value(entity, '@id')[0].endswith('/'):\n",
    "            for _ in get_norm_value(entity, 'datePublished'):\n",
    "                if datetime_valid(_) == True:\n",
    "                    return NAME, datetime_valid(_)\n",
    "                else: \n",
    "                    return NAME, error_message[0], datetime_valid(_)\n",
    "    return NAME, error_message[1], False\n",
    "                "
   ]
  },
  {
   "cell_type": "markdown",
   "metadata": {},
   "source": [
    "# Checking RO-Crate Data Entity"
   ]
  },
  {
   "cell_type": "markdown",
   "metadata": {},
   "source": [
    "### Referencing file or folder from root data entity"
   ]
  },
  {
   "cell_type": "code",
   "execution_count": 56,
   "metadata": {},
   "outputs": [],
   "source": [
    "\n",
    "def Referencing_check(tar_file, extension):\n",
    "    \"\"\"/\n",
    "    Where file or folder are represented as Data Entity in RO-Crate JSON-LD\n",
    "    There MUST be linked to, directly or indirectly, hasPart in Root Data Entity.\n",
    "    For more information, please check : \n",
    "    <https://www.researchobject.org/ro-crate/1.1/root-data-entity.html>\n",
    "    \"\"\"\n",
    "    \n",
    "    NAME = \"referencing check\"\n",
    "    error_message = \"The referencing is wrong\"\n",
    "    \n",
    "    with open(\"ro-crate-metadata.json\", w) as file:\n",
    "        metadata = file.load()\n",
    "        graph = metadata['@graph']\n",
    "        \n",
    "    for entity in graph: \n",
    "        \n",
    "    \n",
    "    "
   ]
  },
  {
   "cell_type": "code",
   "execution_count": null,
   "metadata": {},
   "outputs": [],
   "source": []
  }
 ],
 "metadata": {
  "kernelspec": {
   "display_name": "Python 3",
   "language": "python",
   "name": "python3"
  },
  "language_info": {
   "codemirror_mode": {
    "name": "ipython",
    "version": 3
   },
   "file_extension": ".py",
   "mimetype": "text/x-python",
   "name": "python",
   "nbconvert_exporter": "python",
   "pygments_lexer": "ipython3",
   "version": "3.8.5"
  }
 },
 "nbformat": 4,
 "nbformat_minor": 4
}
