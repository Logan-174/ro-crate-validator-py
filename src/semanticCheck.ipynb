{
 "cells": [
  {
   "cell_type": "code",
   "execution_count": 1,
   "metadata": {},
   "outputs": [],
   "source": [
    "import os \n",
    "import json \n",
    "import zipfile\n",
    "import rocrate.utils as utils\n",
    "import rocrate.rocrate as rocrate\n",
    "from datetime import datetime\n",
    "import pytest"
   ]
  },
  {
   "cell_type": "markdown",
   "metadata": {},
   "source": [
    "# Checking RO-Crate Metadata Root Data Entity"
   ]
  },
  {
   "cell_type": "markdown",
   "metadata": {},
   "source": [
    "### RO-Crate Self Descriptor"
   ]
  },
  {
   "cell_type": "code",
   "execution_count": 26,
   "metadata": {},
   "outputs": [],
   "source": [
    "def self_descriptor_check(tar_file, extension):\n",
    "    \"\"\"\\\n",
    "    Check the self descriptor in RO-Crate\n",
    "    Please check the requirements details in: \n",
    "    <https://www.researchobject.org/ro-crate/1.1/root-data-entity.html>\n",
    "    \"\"\"\n",
    "    NAME = \"Self descriptor check\"\n",
    "    error_message = \"self descriptor is not provided\"\n",
    "    \n",
    "    with open (os.path.join(tar_file, \"ro-crate-metadata.json\"), 'r') as file:\n",
    "        metadata = json.load(file)\n",
    "        graph = metadata['@graph']\n",
    "    \n",
    "    for entity in graph:\n",
    "        type = utils.get_norm_value(entity, \"@type\")\n",
    "        if type == ['CreativeWork']:\n",
    "            if (utils.get_norm_value(entity, \"@id\") == ['ro-crate-metadata.json'] or utils.get_norm_value(entity, \"@id\") == ['ro-crate-metadata.jsonld']) and utils.get_norm_value(entity, \"about\") == ['./']:\n",
    "                link_ = utils.get_norm_value(entity, \"conformsTo\")[0]\n",
    "                if link_.startswith(\"https://w3id.org/ro/crate/\"): \n",
    "                    return NAME, True\n",
    "    return NAME, error_message, False"
   ]
  },
  {
   "cell_type": "markdown",
   "metadata": {},
   "source": [
    "### Direct property of Root Data Entity"
   ]
  },
  {
   "cell_type": "code",
   "execution_count": 55,
   "metadata": {},
   "outputs": [],
   "source": [
    "def datetime_valid(dt_str):\n",
    "    try: \n",
    "        datetime.fromisoformat(dt_str)\n",
    "    except: \n",
    "        return False\n",
    "    return True\n",
    "\n",
    "\n",
    "def direct_property_check(tar_file, extension):\n",
    "    \"\"\"\\\n",
    "    A valid RO-Crate MUST meets the direct property requirements\n",
    "    Please check the requirements details in: \n",
    "    <https://www.researchobject.org/ro-crate/1.1/root-data-entity.html>\n",
    "    \"\"\"\n",
    "    NAME = \"Direct property check\"\n",
    "    error_message = [\"datePublished is not in ISO 8601 date format\", \"Directory property of RO-Crate is wrong\"]\n",
    "    \n",
    "    with open (os.path.join(tar_file, \"ro-crate-metadata.json\"), 'r') as file:\n",
    "        metadata = json.load(file)\n",
    "        graph = metadata['@graph']\n",
    "        \n",
    "    for entity in graph: \n",
    "        type = utils.get_norm_value(entity, '@type')\n",
    "        if type[0] == 'Dataset' and utils.get_norm_value(entity, '@id')[0].endswith('/'):\n",
    "            for _ in utils.get_norm_value(entity, 'datePublished'):\n",
    "                if datetime_valid(_) == True:\n",
    "                    return NAME, datetime_valid(_)\n",
    "                else: \n",
    "                    return NAME, error_message[0], datetime_valid(_)\n",
    "    return NAME, error_message[1], False\n",
    "                "
   ]
  },
  {
   "cell_type": "markdown",
   "metadata": {},
   "source": [
    "# Checking RO-Crate Data Entity"
   ]
  },
  {
   "cell_type": "markdown",
   "metadata": {},
   "source": [
    "### Referencing file or folder from root data entity"
   ]
  },
  {
   "cell_type": "code",
   "execution_count": 56,
   "metadata": {},
   "outputs": [],
   "source": [
    "def referencing_check(tar_file, extension):\n",
    "    \"\"\"/\n",
    "    Where file or folder are represented as Data Entity in RO-Crate JSON-LD\n",
    "    There MUST be linked to, directly or indirectly, hasPart in Root Data Entity.\n",
    "    For more information, please check : \n",
    "    <https://www.researchobject.org/ro-crate/1.1/root-data-entity.html>\n",
    "    \"\"\"\n",
    "    \n",
    "    NAME = \"Referencing check\"\n",
    "    error_message = \"The referencing {} is wrong\"\n",
    "    \n",
    "    referencing_result = {}\n",
    "    \n",
    "    context, metadata = rocrate.read_metadata(os.path.join(tar_file, \"ro-crate-metadata.json\"))\n",
    "    \n",
    "    for entity in metadata.values(): \n",
    "        hasPart = utils.get_norm_value(entity, \"hasPart\")\n",
    "        creator = utils.get_norm_value(entity, \"creator\")\n",
    "        if len(hasPart) != 0: \n",
    "            break\n",
    "    \n",
    "    for parts in hasPart: \n",
    "        id_ = utils.get_norm_value(metadata[parts], \"@id\")\n",
    "        extensions = os.path.splitext(id_[0])[1]\n",
    "        \n",
    "        if extensions == \"\" and id_[0].endswith('/'):\n",
    "            if isinstance(metadata[\"%s\" % id_[0]][\"@type\"], list) and 'Dataset' in metadata[\"%s\" % id_[0]][\"@type\"]:\n",
    "                referencing_result[id_[0]] = True\n",
    "            elif metadata[\"%s\" % id_[0]][\"@type\"] == 'Dataset':\n",
    "                referencing_result[id_[0]] = True\n",
    "            else:\n",
    "                referencing_result[id_[0]] = [False, error_message.format(id_[0])]\n",
    "        elif extensions != \"\": \n",
    "            if isinstance(metadata[\"%s\" % id_[0]][\"@type\"], list) and \"File\" in metadata[\"%s\" % id_[0]][\"@type\"]:\n",
    "                referencing_result[id_[0]] = True\n",
    "            elif metadata[\"%s\" % id_[0]][\"@type\"] == \"File\":\n",
    "                referencing_result[id_[0]] = True\n",
    "            else:\n",
    "                referencing_result[id_[0]] = [False, error_message.format(id_[0])]\n",
    "    \n",
    "    counter = 0\n",
    "    for values in referencing_result.values():\n",
    "        counter += 1\n",
    "        if isinstance(values, list):\n",
    "            return NAME, values[1], values[0]\n",
    "        if counter == len(referencing_result.values()):\n",
    "            return NAME, True\n",
    "        \n",
    "    \n",
    "    return NAME, error_message, False"
   ]
  },
  {
   "cell_type": "markdown",
   "metadata": {},
   "source": [
    "### Detailed Descriptions of Encodings"
   ]
  },
  {
   "cell_type": "code",
   "execution_count": null,
   "metadata": {},
   "outputs": [],
   "source": [
    "def encoding_check(tar_file, extension): \n",
    "    \n",
    "    \"\"\"\n",
    "    The details of encoding should meet the requirments\n",
    "    Please check more information at:\n",
    "    <https://www.researchobject.org/ro-crate/1.1/data-entities.html>\n",
    "    \"\"\"\n",
    "    \n",
    "    NAME = \"Encoding check\"\n",
    "    error_message = [\"Encoding in {} is wrong\", \"The value of @type in {} is incorrect\"]\n",
    "    ### Create a dictionary to store the encoding check result\n",
    "    encoding_result = {}\n",
    "    \n",
    "    context, metadata = rocrate.read_metadata(os.path.join(tar_file, \"ro-crate-metadata.json\"))\n",
    "    \n",
    "    for entity in metadata.values(): \n",
    "        encoding = utils.get_norm_value(entity, \"encodingFormat\")\n",
    "        if len(encoding) >= 2:\n",
    "            type = utils.get_norm_value(metadata[encoding[1]], \"@type\")\n",
    "            if utils.is_url(encoding[1]):\n",
    "                if type[0] == \"WebSite\":\n",
    "                    encoding_result[encoding[1]] = True\n",
    "                else:\n",
    "                    encoding_result[encoding[1]] = [False, error_message[1].format(encoding[1])]\n",
    "            else:\n",
    "                extension = os.path.splitext(encoding[1])[1]\n",
    "                if extension == \"\" and encoding[1].endswith(\"/\") and \"Dataset\" in type:\n",
    "                    encoding_result[encoding[1]] = True\n",
    "                elif extension != \"\" and \"File\" in type:\n",
    "                    encoding_result[encoding[1]] = True\n",
    "                else:\n",
    "                    encoding_result[encoding[1]] = [False, error_message[1].format(encoding[1])]\n",
    "    \n",
    "    ### If any of the value in the dictionary are false which should be a list, then return false\n",
    "    for values in encoding_result.values():\n",
    "        if isinstance(values, list):\n",
    "            return NAME, error_message[0].format(list(encoding_result.keys())[list(encoding_result.values()).index([values[0], values[1]])]), values[0]\n",
    "    \n",
    "    return NAME, True\n",
    "                \n",
    "        "
   ]
  },
  {
   "cell_type": "markdown",
   "metadata": {},
   "source": [
    "# Checking Scripts and Workflows"
   ]
  },
  {
   "cell_type": "code",
   "execution_count": null,
   "metadata": {},
   "outputs": [],
   "source": [
    "def scripts_and_workflow_check(tar_file, extension):\n",
    "    \"\"\"\n",
    "    \n",
    "    \"\"\"\n",
    "    NAME = \"Scripts and workflow check\"\n",
    "    error_message = \"scripts and workflow is wrong\"\n",
    "    warning_message = \"Warning: {} is an extension which is not in the recognised workflow extension file. {} has been added to the extension file.\"\n",
    "    \n",
    "    workflow_dict = {}\n",
    "    \n",
    "    context, metadata = rocrate.read_metadata(os.path.join(tar_file, \"ro-crate-metadata.json\"))\n",
    "    \n",
    "    for entity in metadata.values():\n",
    "        type = utils.get_norm_value(entity, \"@type\")\n",
    "        if \"ComputationalWorkflow\" in type:\n",
    "            extension = os.path.splitext(utils.get_norm_value(entity,\"@id\")[0])[1]\n",
    "            if \"File\" in type and \"SoftwareSourceCode\" in type:\n",
    "                with open (\"workflow_extension.txt\", \"r\") as file:\n",
    "                    prepared_extension = file.read().splitlines()\n",
    "                with open(\"workflow_extension.txt\", \"a\") as f:\n",
    "                    if extension in prepared_extension:\n",
    "                        workflow_dict[utils.get_norm_value(entity, \"@id\")[0]] = True\n",
    "                    else:\n",
    "                        f.write(\"\\n\")\n",
    "                        f.write(\"%s\" % extension)\n",
    "                        workflow_dict[utils.get_norm_value(entity, \"@id\")[0]] = warning_message.format(extension, extension)\n",
    "            else:\n",
    "                return NAME, error_message, False\n",
    "            \n",
    "    counter = 0\n",
    "    for values in workflow_dict.values():\n",
    "        counter += 1\n",
    "        if isinstance(values, str):\n",
    "            return NAME, values\n",
    "        if counter == len(workflow_dict.values()):\n",
    "            return NAME, True\n",
    "    \n",
    "    return NAME, error_message, False"
   ]
  }
 ],
 "metadata": {
  "kernelspec": {
   "display_name": "Python 3",
   "language": "python",
   "name": "python3"
  },
  "language_info": {
   "codemirror_mode": {
    "name": "ipython",
    "version": 3
   },
   "file_extension": ".py",
   "mimetype": "text/x-python",
   "name": "python",
   "nbconvert_exporter": "python",
   "pygments_lexer": "ipython3",
   "version": "3.8.5"
  }
 },
 "nbformat": 4,
 "nbformat_minor": 4
}
