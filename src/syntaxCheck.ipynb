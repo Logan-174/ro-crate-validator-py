{
 "cells": [
  {
   "cell_type": "code",
   "execution_count": 1,
   "metadata": {},
   "outputs": [],
   "source": [
    "import os\n",
    "import zipfile\n",
    "import json\n",
    "import import_ipynb\n",
    "from utils import Result as Result "
   ]
  },
  {
   "cell_type": "markdown",
   "metadata": {},
   "source": [
    "# Syntax checks regarding RO-Crate and Metadata file"
   ]
  },
  {
   "cell_type": "markdown",
   "metadata": {},
   "source": [
    "### Basic checks of RO-Crate "
   ]
  },
  {
   "cell_type": "code",
   "execution_count": 2,
   "metadata": {},
   "outputs": [],
   "source": [
    "def existence_check(tar_file, extension):\n",
    "    \n",
    "    NAME = \"File existence\"\n",
    "    error_message = {\n",
    "        \"FileNotFoundError\": \"No such file or directory: {}. Validation Aborted.\"\n",
    "    }\n",
    "    \n",
    "    if os.path.exists(tar_file) == True:\n",
    "        return Result(NAME)\n",
    "    return Result(NAME, code = -1, message = error_message[\"FileNotFoundError\"].format(tar_file))\n",
    "\n",
    "def file_size_check(tar_file, extension):\n",
    "    \n",
    "    NAME = \"File size\"\n",
    "    error_message = {\n",
    "        \"FileSizeError\": \"Empty File or Directory. Validation Aborted.\"\n",
    "    }\n",
    "    \n",
    "    file_size = os.path.getsize(tar_file)\n",
    "    if file_size == 0:\n",
    "        return Result(NAME, code = -1, message = error_message[\"FileSizeError\"])\n",
    "    return Result(NAME)\n",
    "\n",
    "def metadata_check(tar_file, extension):\n",
    "    \n",
    "    NAME = \"Metadata file existence\"\n",
    "    error_message = {\n",
    "        \"FileNotFoundError\": \"No metadata file in file/directory: {}. Validation Aborted.\"\n",
    "    }\n",
    "    \n",
    "    path = os.path.join(os.getcwd(), tar_file)\n",
    "    metadata_file = \"ro-crate-metadata.json\"\n",
    "    if extension == \"\" and os.path.exists(os.path.join(path, metadata_file)):\n",
    "        return Result(NAME)\n",
    "    elif extension == \".zip\":\n",
    "        zf = zipfile.ZipFile(tar_file, 'r')\n",
    "        if metadata_file in zf.namelist():\n",
    "            return Result(NAME)\n",
    "    return Result(NAME, code = -1, message = error_message[\"FileNotFoundError\"])"
   ]
  },
  {
   "cell_type": "markdown",
   "metadata": {},
   "source": [
    "### Json check"
   ]
  },
  {
   "cell_type": "code",
   "execution_count": 3,
   "metadata": {},
   "outputs": [],
   "source": [
    "def string_value_check(tar_file, extension):\n",
    "    \n",
    "    NAME = \"Json check\"\n",
    "    json_string = None\n",
    "    metadata = \"ro-crate-metadata.json\"\n",
    "    if extension == \"\":\n",
    "        with open (os.path.join(tar_file, metadata), 'r') as f:\n",
    "            try:\n",
    "                json_string = f.read()\n",
    "                parsed_json = json.loads(json_string)\n",
    "                json.dumps(parsed_json, indent = 4, sort_keys = True)\n",
    "            except json.JSONDecodeError as e:\n",
    "                return Result(NAME, code = -1, message = repr(e))\n",
    "\n",
    "    elif extension == \".zip\":\n",
    "        zf = zipfile.ZipFile(tar_file, 'r')\n",
    "        json_string = zf.read(metadata)\n",
    "        try:\n",
    "            parsed_json = json.loads(json_string)\n",
    "            json.dumps(parsed_json, indent = 4, sort_keys = True)\n",
    "        except json.JSONDecodeError as e:\n",
    "            return Result(NAME, code = -1, message = repr(e))\n",
    "    \n",
    "    return Result(NAME)\n"
   ]
  },
  {
   "cell_type": "markdown",
   "metadata": {},
   "source": [
    "### Json-ld check"
   ]
  },
  {
   "cell_type": "code",
   "execution_count": 6,
   "metadata": {},
   "outputs": [],
   "source": [
    "def check_context(tar_file, extension):\n",
    "    \n",
    "    NAME = \"Json-ld check\"\n",
    "    error_mesage = {\n",
    "        \"ContextNotFoundError\": \"Context is not provided. Validation Aborted.\"\n",
    "    }\n",
    "    metadata = \"ro-crate-metadata.json\"\n",
    "    \n",
    "    if extension == \"\":\n",
    "        with open (os.path.join(tar_file, metadata), 'r') as f:\n",
    "            try: \n",
    "                parsed_jsonld = json.load(f)\n",
    "            except json.JSONDecodeError as e:\n",
    "                return Result(NAME, code = -1, error_message = repr(e))\n",
    "        context_data = parsed_jsonld.get(\"@context\")\n",
    "        if context_data == None:\n",
    "            return Result(NAME, code = -1, message = error_message[\"ContextNotFoundError\"])\n",
    "        return Result(NAME)\n",
    "\n",
    "    elif extension == \".zip\":\n",
    "        zf = zipfile.ZipFile(tar_file, 'r')\n",
    "        json_string = zf.read(metadata)\n",
    "        parsed_jsonld = json.loads(json_string.decode(\"utf-8\"))\n",
    "        context_data = parsed_jsonld.get(\"@context\")\n",
    "\n",
    "        if context_data == None:\n",
    "            return Result(NAME, code = -1, message = error_message[\"ContextNotFoundError\"])\n",
    "        return Result(NAME)"
   ]
  },
  {
   "cell_type": "markdown",
   "metadata": {},
   "source": [
    "### RDF triples check"
   ]
  },
  {
   "cell_type": "code",
   "execution_count": null,
   "metadata": {},
   "outputs": [],
   "source": [
    "def rdf_triples_check(tar_file, extension):\n",
    "    \n",
    "    NAME = \"RDF triples\"\n",
    "    error_message = \"RDF triples are incorrect\"\n",
    "    metadata = \"ro-crate-metadata.json\"\n",
    "    \n",
    "    \"\"\"/ to do\n",
    "    \"\"\"\n",
    "    return NAME, False"
   ]
  }
 ],
 "metadata": {
  "kernelspec": {
   "display_name": "Python 3",
   "language": "python",
   "name": "python3"
  },
  "language_info": {
   "codemirror_mode": {
    "name": "ipython",
    "version": 3
   },
   "file_extension": ".py",
   "mimetype": "text/x-python",
   "name": "python",
   "nbconvert_exporter": "python",
   "pygments_lexer": "ipython3",
   "version": "3.8.5"
  }
 },
 "nbformat": 4,
 "nbformat_minor": 4
}
