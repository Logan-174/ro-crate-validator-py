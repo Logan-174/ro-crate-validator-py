{
 "cells": [
  {
   "cell_type": "markdown",
   "metadata": {},
   "source": [
    "# Categorising Broken RO-Crate\n",
    "\n",
    "\n",
    "## Mini-Report \n",
    "\n",
    "**Links:** https://docs.google.com/document/d/1fC7_BZYxyM1V9L2g6XnGdbvYiwNOg_YdhRLMPUoFf4M/edit\n"
   ]
  },
  {
   "cell_type": "markdown",
   "metadata": {},
   "source": [
    "# Syntax Error"
   ]
  },
  {
   "cell_type": "markdown",
   "metadata": {},
   "source": [
    "## 1. Invalid Json Test\n",
    "**_Test 01 brackets_**\n",
    "\n",
    "**_Purpose:_** Json objects literals are surrounded by curly braces { }.\n",
    "**_Input example:_** https://github.com/ResearchObject/ro-crate-validator-py/blob/main/test/samples/invalid/wrong_array_bracket.json\n",
    "\n",
    "**_Test 02 separators_**\n",
    "\n",
    "**_Purpose:_** Key and values are separated by a colon : , and each pair of key/value are separated by a comma , .\n",
    "**_Input example:_** https://github.com/ResearchObject/ro-crate-validator-py/blob/main/test/samples/invalid/invalid_seperatorOf_key_value.json\n",
    "\n",
    "**_Test 03 key and value format_**\n",
    "\n",
    "**_Purpose:_** Key must be strings, written with double quotes, and values must be a valid JSON data type except function, time and undefined.\n",
    "**_Input example:_** https://github.com/ResearchObject/ro-crate-validator-py/blob/main/test/samples/invalid/invalid_json_stringValue.json"
   ]
  },
  {
   "cell_type": "markdown",
   "metadata": {},
   "source": [
    "## 2. Unsupported/Unexpected Json-ld\n",
    "\n",
    "**_Test 01 Missing type_**\n",
    "\n",
    "**_Purpose:_** Principles of [Linked Data](https://json-ld.org/spec/latest/json-ld-api-best-practices/#dfn-linked-data) dictate that messages SHOULD be self describing, which includes adding a type to such messages.\n",
    "**_Input example:_** https://github.com/ResearchObject/ro-crate-validator-py/blob/main/test/samples/invalid/unsupported_jsonld_missingType.json"
   ]
  },
  {
   "cell_type": "markdown",
   "metadata": {},
   "source": [
    "## 3. Invalid Json-ld Compacted from\n",
    "\n",
    "**_Test 01 Duplicated keywords_**\n",
    "\n",
    "**_Purpose:_**  the term must not equal any of the JSON-LD keywords, other than @type\n",
    "**_Input example:_** https://github.com/ResearchObject/ro-crate-validator-py/blob/main/test/samples/invalid/invalid_compacted_term_duplicatedKeywords.json\n",
    "\n",
    "**_Test 02 Empty string term_**\n",
    "\n",
    "**_Purpose:_**  the term must not be empty string (“”) as not all programming languages are able to handle empty JSON keys.\n",
    "**_Input example:_** https://github.com/ResearchObject/ro-crate-validator-py/blob/main/test/samples/invalid/invalid_compacted_term_emptyString.json\n",
    "  "
   ]
  },
  {
   "cell_type": "markdown",
   "metadata": {},
   "source": [
    "## 4. Invalid Json-ld\n",
    "\n",
    "**_Test 01 Duplicated subjects_**\n",
    "\n",
    "**_Purpose:_**  Each unique subject in the set of triples is represented as a key in the root object. NO key may appear more than once in the root object.\n",
    "**_Input example:_** https://github.com/ResearchObject/ro-crate-validator-py/blob/main/test/samples/invalid/duplicate_predicated_keys.json\n",
    "\n",
    "**_Test 02 Missing context_**\n",
    "\n",
    "**_Purpose:_**  (Meta)data should link to other people's data to provide context, using URIs as global identifiers.\n",
    "**_input example:_** https://github.com/ResearchObject/ro-crate-validator-py/blob/main/test/samples/invalid/context_missing"
   ]
  },
  {
   "cell_type": "markdown",
   "metadata": {},
   "source": [
    "## 5. Wrong schema.org\n",
    "\n",
    "**_Test 01 wrong schema.org_**\n",
    "\n",
    "**_Purpose:_**  JSON-LD uses the vocabulary of schema.org to describe what a web page is about\n",
    "**_Input example:_** https://github.com/ResearchObject/ro-crate-validator-py/blob/main/test/samples/invalid/wrong_schema.json\n"
   ]
  },
  {
   "cell_type": "markdown",
   "metadata": {},
   "source": [
    "# Semantic Error\n",
    "\n",
    "## Invalid Root Data Entity\n",
    "\n",
    "### 1. Invalid RO-Crate Metadata FIle Descriptor\n",
    "\n",
    "**_Test 01 Invalid id in about property_**\n",
    "\n",
    "**_Purpose:_**  For each entity in @graph array, if the comformsTo property is a URI that starts with [https://w3id.org/ro/crate/](https://w3id.org/ro/crate/), from this entity’s about object keep the @id URI as variable root\n",
    "**_Input example:_** https://github.com/ResearchObject/ro-crate-validator-py/blob/main/test/samples/invalid/invalid_is_inAboutObj.json\n",
    "\n",
    "**_Test 02 Missing about property_**\n",
    "\n",
    "**_Purpose:_**  The Ro-Crate Metadata file descriptor MUST have an about property referencing the _Root Data Entity_, which SHOULD have an '@id' of './'.\n",
    "**_Input example:_** https://github.com/ResearchObject/ro-crate-validator-py/blob/main/test/samples/invalid/invalid_is_inAboutObj.json\n",
    "\n",
    "**_Test 03 Invalid File Descriptor Type_**\n",
    "\n",
    "**_Input example:_** https://github.com/ResearchObject/ro-crate-validator-py/blob/main/test/samples/invalid/invalid_descriptorType"
   ]
  },
  {
   "cell_type": "markdown",
   "metadata": {},
   "source": [
    "### 2. Invalid Direct Properties of the Root Data Entity\n",
    "\n",
    "**_Test 01 Invalid root data entity @type value_**\n",
    "\n",
    "**_Purpose:_** @type must be Dataset\n",
    "**_Input example:_** https://github.com/ResearchObject/ro-crate-validator-py/blob/main/test/samples/invalid/invalid_rootDataENtity_@typeValue.json"
   ]
  },
  {
   "cell_type": "markdown",
   "metadata": {},
   "source": []
  },
  {
   "cell_type": "markdown",
   "metadata": {},
   "source": []
  },
  {
   "cell_type": "markdown",
   "metadata": {},
   "source": []
  },
  {
   "cell_type": "code",
   "execution_count": null,
   "metadata": {},
   "outputs": [],
   "source": []
  },
  {
   "cell_type": "code",
   "execution_count": null,
   "metadata": {},
   "outputs": [],
   "source": []
  },
  {
   "cell_type": "code",
   "execution_count": null,
   "metadata": {},
   "outputs": [],
   "source": []
  }
 ],
 "metadata": {
  "kernelspec": {
   "display_name": "Python 3",
   "language": "python",
   "name": "python3"
  },
  "language_info": {
   "codemirror_mode": {
    "name": "ipython",
    "version": 3
   },
   "file_extension": ".py",
   "mimetype": "text/x-python",
   "name": "python",
   "nbconvert_exporter": "python",
   "pygments_lexer": "ipython3",
   "version": "3.8.5"
  }
 },
 "nbformat": 4,
 "nbformat_minor": 4
}
